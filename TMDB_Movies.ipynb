{
 "cells": [
  {
   "cell_type": "markdown",
   "metadata": {},
   "source": [
    "# Project: [TMDb movie data]\n",
    "\n",
    "## Table of Contents\n",
    "<ul>\n",
    "<li><a href=\"#intro\">Introduction</a></li>\n",
    "<li><a href=\"#wrangling\">Data Wrangling</a></li>\n",
    "<li><a href=\"#eda\">Exploratory Data Analysis</a></li>\n",
    "<li><a href=\"#conclusions\">Conclusions</a></li>\n",
    "</ul>"
   ]
  },
  {
   "cell_type": "markdown",
   "metadata": {},
   "source": [
    "<a id='intro'></a>\n",
    "## Introduction\n",
    "\n",
    "### Dataset Description \n",
    "\n",
    "This data set contains information about 10,000 movies collected from The Movie Database (TMDb), including user ratings and revenue.There are columns such as :\n",
    "imdb_id>> the film id for imdb wibsite\n",
    "\n",
    "original_title>> the title of movie\n",
    "\n",
    "budget_adj>> the budget in terms of 2010 dollars, accounting for inflation over time.\n",
    "\n",
    "revenue_adj>>the revenue in terms of 2010 dollars, accounting for inflation over time.\n",
    "\n",
    "net_profit>>it is the actual profit that gained(revenue_adj-budget_adj)\n",
    "\n",
    "\n",
    "\n",
    "### Question(s) for Analysis\n",
    "1/ what are the most and least 12 net profit movies?\n",
    "\n",
    "2/(what are the most and least popular movie?)\n",
    "\n",
    "3/(what are the most frequent movie types?)\n",
    "\n",
    "4/(what are the longest and shortest type of movies?)\n",
    "\n",
    "5/(what are the types that give highest net profit?)\n",
    "\n",
    "6/(what are the most and least popular type of movies?)\n",
    "\n",
    "7/(what are the most and least vote average movies?)\n",
    "\n",
    "8/(At which year more movies released?)\n",
    "\n",
    "9/(whose actor that present more in each type ?)\n",
    "\n",
    "10/(Which genres are most released fom year to year ?)\n",
    "\n",
    "11/(Which production companies are making more profits ?)\n",
    "\n",
    "12/(Which production company has the most market share?)\n",
    "\n",
    "13/(Which genres are most popular fom year to year ?)"
   ]
  },
  {
   "cell_type": "code",
   "execution_count": 1,
   "metadata": {},
   "outputs": [],
   "source": [
    "import pandas as pd\n",
    "import numpy as np \n",
    "import matplotlib.pyplot as plt\n",
    "%matplotlib inline\n"
   ]
  },
  {
   "cell_type": "markdown",
   "metadata": {},
   "source": [
    "**importing** our importing liberaries and the magic world for presenting the graph in the same page"
   ]
  },
  {
   "cell_type": "markdown",
   "metadata": {},
   "source": [
    "**updating** the pandas as i can use the explode function"
   ]
  },
  {
   "cell_type": "code",
   "execution_count": 61,
   "metadata": {},
   "outputs": [
    {
     "name": "stdout",
     "output_type": "stream",
     "text": [
      "Collecting pandas\n",
      "\u001b[?25l  Downloading https://files.pythonhosted.org/packages/c3/e2/00cacecafbab071c787019f00ad84ca3185952f6bb9bca9550ed83870d4d/pandas-1.1.5-cp36-cp36m-manylinux1_x86_64.whl (9.5MB)\n",
      "\u001b[K    100% |████████████████████████████████| 9.5MB 2.1MB/s eta 0:00:01    24% |███████▉                        | 2.3MB 23.1MB/s eta 0:00:01    53% |█████████████████▏              | 5.1MB 17.7MB/s eta 0:00:01    81% |██████████████████████████      | 7.7MB 20.3MB/s eta 0:00:01    91% |█████████████████████████████▏  | 8.7MB 19.3MB/s eta 0:00:01\n",
      "\u001b[?25hCollecting numpy>=1.15.4 (from pandas)\n",
      "\u001b[?25l  Downloading https://files.pythonhosted.org/packages/45/b2/6c7545bb7a38754d63048c7696804a0d947328125d81bf12beaa692c3ae3/numpy-1.19.5-cp36-cp36m-manylinux1_x86_64.whl (13.4MB)\n",
      "\u001b[K    100% |████████████████████████████████| 13.4MB 2.5MB/s eta 0:00:01   40% |█████████████                   | 5.4MB 14.5MB/s eta 0:00:01    58% |██████████████████▉             | 7.9MB 16.8MB/s eta 0:00:01    64% |████████████████████▊           | 8.7MB 17.0MB/s eta 0:00:01    71% |██████████████████████▉         | 9.5MB 17.2MB/s eta 0:00:01    83% |██████████████████████████▊     | 11.2MB 16.1MB/s eta 0:00:01\n",
      "\u001b[?25hCollecting python-dateutil>=2.7.3 (from pandas)\n",
      "\u001b[?25l  Downloading https://files.pythonhosted.org/packages/36/7a/87837f39d0296e723bb9b62bbb257d0355c7f6128853c78955f57342a56d/python_dateutil-2.8.2-py2.py3-none-any.whl (247kB)\n",
      "\u001b[K    100% |████████████████████████████████| 256kB 10.1MB/s ta 0:00:01\n",
      "\u001b[?25hRequirement already satisfied, skipping upgrade: pytz>=2017.2 in /opt/conda/lib/python3.6/site-packages (from pandas) (2017.3)\n",
      "Requirement already satisfied, skipping upgrade: six>=1.5 in /opt/conda/lib/python3.6/site-packages (from python-dateutil>=2.7.3->pandas) (1.11.0)\n",
      "\u001b[31mtensorflow 1.3.0 requires tensorflow-tensorboard<0.2.0,>=0.1.0, which is not installed.\u001b[0m\n",
      "Installing collected packages: numpy, python-dateutil, pandas\n",
      "  Found existing installation: numpy 1.12.1\n",
      "    Uninstalling numpy-1.12.1:\n",
      "      Successfully uninstalled numpy-1.12.1\n",
      "  Found existing installation: python-dateutil 2.6.1\n",
      "    Uninstalling python-dateutil-2.6.1:\n",
      "      Successfully uninstalled python-dateutil-2.6.1\n",
      "  Found existing installation: pandas 0.23.3\n",
      "    Uninstalling pandas-0.23.3:\n",
      "      Successfully uninstalled pandas-0.23.3\n",
      "Successfully installed numpy-1.19.5 pandas-1.1.5 python-dateutil-2.8.2\n"
     ]
    }
   ],
   "source": [
    "# Upgrade pandas to use dataframe.explode() function. \n",
    "!pip install --upgrade pandas"
   ]
  },
  {
   "cell_type": "markdown",
   "metadata": {},
   "source": [
    "<a id='wrangling'></a>\n",
    "## Data Wrangling\n",
    "\n"
   ]
  },
  {
   "cell_type": "markdown",
   "metadata": {},
   "source": [
    "**read** our file.csv and re assigne it as df using pandas."
   ]
  },
  {
   "cell_type": "code",
   "execution_count": 17,
   "metadata": {},
   "outputs": [
    {
     "data": {
      "text/html": [
       "<div>\n",
       "<style scoped>\n",
       "    .dataframe tbody tr th:only-of-type {\n",
       "        vertical-align: middle;\n",
       "    }\n",
       "\n",
       "    .dataframe tbody tr th {\n",
       "        vertical-align: top;\n",
       "    }\n",
       "\n",
       "    .dataframe thead th {\n",
       "        text-align: right;\n",
       "    }\n",
       "</style>\n",
       "<table border=\"1\" class=\"dataframe\">\n",
       "  <thead>\n",
       "    <tr style=\"text-align: right;\">\n",
       "      <th></th>\n",
       "      <th>id</th>\n",
       "      <th>imdb_id</th>\n",
       "      <th>popularity</th>\n",
       "      <th>budget</th>\n",
       "      <th>revenue</th>\n",
       "      <th>original_title</th>\n",
       "      <th>cast</th>\n",
       "      <th>homepage</th>\n",
       "      <th>director</th>\n",
       "      <th>tagline</th>\n",
       "      <th>...</th>\n",
       "      <th>overview</th>\n",
       "      <th>runtime</th>\n",
       "      <th>genres</th>\n",
       "      <th>production_companies</th>\n",
       "      <th>release_date</th>\n",
       "      <th>vote_count</th>\n",
       "      <th>vote_average</th>\n",
       "      <th>release_year</th>\n",
       "      <th>budget_adj</th>\n",
       "      <th>revenue_adj</th>\n",
       "    </tr>\n",
       "  </thead>\n",
       "  <tbody>\n",
       "    <tr>\n",
       "      <th>0</th>\n",
       "      <td>135397</td>\n",
       "      <td>tt0369610</td>\n",
       "      <td>32.985763</td>\n",
       "      <td>150000000</td>\n",
       "      <td>1513528810</td>\n",
       "      <td>Jurassic World</td>\n",
       "      <td>Chris Pratt|Bryce Dallas Howard|Irrfan Khan|Vi...</td>\n",
       "      <td>http://www.jurassicworld.com/</td>\n",
       "      <td>Colin Trevorrow</td>\n",
       "      <td>The park is open.</td>\n",
       "      <td>...</td>\n",
       "      <td>Twenty-two years after the events of Jurassic ...</td>\n",
       "      <td>124</td>\n",
       "      <td>Action|Adventure|Science Fiction|Thriller</td>\n",
       "      <td>Universal Studios|Amblin Entertainment|Legenda...</td>\n",
       "      <td>2015-06-09</td>\n",
       "      <td>5562</td>\n",
       "      <td>6.5</td>\n",
       "      <td>2015</td>\n",
       "      <td>1.379999e+08</td>\n",
       "      <td>1.392446e+09</td>\n",
       "    </tr>\n",
       "    <tr>\n",
       "      <th>1</th>\n",
       "      <td>76341</td>\n",
       "      <td>tt1392190</td>\n",
       "      <td>28.419936</td>\n",
       "      <td>150000000</td>\n",
       "      <td>378436354</td>\n",
       "      <td>Mad Max: Fury Road</td>\n",
       "      <td>Tom Hardy|Charlize Theron|Hugh Keays-Byrne|Nic...</td>\n",
       "      <td>http://www.madmaxmovie.com/</td>\n",
       "      <td>George Miller</td>\n",
       "      <td>What a Lovely Day.</td>\n",
       "      <td>...</td>\n",
       "      <td>An apocalyptic story set in the furthest reach...</td>\n",
       "      <td>120</td>\n",
       "      <td>Action|Adventure|Science Fiction|Thriller</td>\n",
       "      <td>Village Roadshow Pictures|Kennedy Miller Produ...</td>\n",
       "      <td>2015-05-13</td>\n",
       "      <td>6185</td>\n",
       "      <td>7.1</td>\n",
       "      <td>2015</td>\n",
       "      <td>1.379999e+08</td>\n",
       "      <td>3.481613e+08</td>\n",
       "    </tr>\n",
       "  </tbody>\n",
       "</table>\n",
       "<p>2 rows × 21 columns</p>\n",
       "</div>"
      ],
      "text/plain": [
       "       id    imdb_id  popularity     budget     revenue      original_title  \\\n",
       "0  135397  tt0369610   32.985763  150000000  1513528810      Jurassic World   \n",
       "1   76341  tt1392190   28.419936  150000000   378436354  Mad Max: Fury Road   \n",
       "\n",
       "                                                cast  \\\n",
       "0  Chris Pratt|Bryce Dallas Howard|Irrfan Khan|Vi...   \n",
       "1  Tom Hardy|Charlize Theron|Hugh Keays-Byrne|Nic...   \n",
       "\n",
       "                        homepage         director             tagline  ...  \\\n",
       "0  http://www.jurassicworld.com/  Colin Trevorrow   The park is open.  ...   \n",
       "1    http://www.madmaxmovie.com/    George Miller  What a Lovely Day.  ...   \n",
       "\n",
       "                                            overview runtime  \\\n",
       "0  Twenty-two years after the events of Jurassic ...     124   \n",
       "1  An apocalyptic story set in the furthest reach...     120   \n",
       "\n",
       "                                      genres  \\\n",
       "0  Action|Adventure|Science Fiction|Thriller   \n",
       "1  Action|Adventure|Science Fiction|Thriller   \n",
       "\n",
       "                                production_companies release_date vote_count  \\\n",
       "0  Universal Studios|Amblin Entertainment|Legenda...   2015-06-09       5562   \n",
       "1  Village Roadshow Pictures|Kennedy Miller Produ...   2015-05-13       6185   \n",
       "\n",
       "   vote_average  release_year    budget_adj   revenue_adj  \n",
       "0           6.5          2015  1.379999e+08  1.392446e+09  \n",
       "1           7.1          2015  1.379999e+08  3.481613e+08  \n",
       "\n",
       "[2 rows x 21 columns]"
      ]
     },
     "execution_count": 17,
     "metadata": {},
     "output_type": "execute_result"
    }
   ],
   "source": [
    "df = pd.read_csv('tmdb-movies.csv',parse_dates=['release_date'])\n",
    "df.head(2)\n"
   ]
  },
  {
   "cell_type": "markdown",
   "metadata": {},
   "source": [
    "## parsing release_date\n",
    "> as it is a date but was saved as str"
   ]
  },
  {
   "cell_type": "markdown",
   "metadata": {},
   "source": [
    "\n",
    "### Data Cleaning\n",
    "\n",
    " "
   ]
  },
  {
   "cell_type": "code",
   "execution_count": 18,
   "metadata": {},
   "outputs": [],
   "source": [
    "def cleaning(x):\n",
    "    x=x.drop(['id','budget','revenue','homepage','tagline','keywords','overview'],axis=1)\n",
    "    x=x.rename(columns=lambda x : x.strip().lower().replace(\" \",\"_\"))\n",
    "    x=x.drop_duplicates().reset_index().drop('index',1)\n",
    "    x['net_profit']=x['revenue_adj']-x['budget_adj']\n",
    "    return x\n"
   ]
  },
  {
   "cell_type": "markdown",
   "metadata": {},
   "source": [
    "**A function** called cleaning which take x as parameter then make defferent data cleaning operation on it like dropping unuseful column,renaming column,making new useful column and finally drop duplicates"
   ]
  },
  {
   "cell_type": "code",
   "execution_count": 19,
   "metadata": {},
   "outputs": [],
   "source": [
    "df=cleaning(df)"
   ]
  },
  {
   "cell_type": "markdown",
   "metadata": {},
   "source": [
    "***re-assigne*** our df to the cleaned one"
   ]
  },
  {
   "cell_type": "markdown",
   "metadata": {},
   "source": [
    "## Deletion\n",
    ">**Deleting** *id* column as imbd_id is very enough. **deleting** *budget* and *revenue* because *budget_adj* and *revenue_adj* are more realistic . **deleting** *homepage*,*tagline*,*keywords* and *overview* as i think they have no use in our analysis."
   ]
  },
  {
   "cell_type": "markdown",
   "metadata": {},
   "source": [
    "## Renaming \n",
    ">**renaming** columns to make them all at the same format\n"
   ]
  },
  {
   "cell_type": "markdown",
   "metadata": {},
   "source": [
    "## duplicates\n",
    ">deleting duplicates as they are useless"
   ]
  },
  {
   "cell_type": "markdown",
   "metadata": {},
   "source": [
    "## Net profit\n",
    ">adding a new column calld net_profit as it will be more precise in calculating the actual mony gained "
   ]
  },
  {
   "cell_type": "code",
   "execution_count": 20,
   "metadata": {},
   "outputs": [
    {
     "name": "stdout",
     "output_type": "stream",
     "text": [
      "<class 'pandas.core.frame.DataFrame'>\n",
      "RangeIndex: 10865 entries, 0 to 10864\n",
      "Data columns (total 15 columns):\n",
      " #   Column                Non-Null Count  Dtype         \n",
      "---  ------                --------------  -----         \n",
      " 0   imdb_id               10855 non-null  object        \n",
      " 1   popularity            10865 non-null  float64       \n",
      " 2   original_title        10865 non-null  object        \n",
      " 3   cast                  10789 non-null  object        \n",
      " 4   director              10821 non-null  object        \n",
      " 5   runtime               10865 non-null  int64         \n",
      " 6   genres                10842 non-null  object        \n",
      " 7   production_companies  9835 non-null   object        \n",
      " 8   release_date          10865 non-null  datetime64[ns]\n",
      " 9   vote_count            10865 non-null  int64         \n",
      " 10  vote_average          10865 non-null  float64       \n",
      " 11  release_year          10865 non-null  int64         \n",
      " 12  budget_adj            10865 non-null  float64       \n",
      " 13  revenue_adj           10865 non-null  float64       \n",
      " 14  net_profit            10865 non-null  float64       \n",
      "dtypes: datetime64[ns](1), float64(5), int64(3), object(6)\n",
      "memory usage: 1.2+ MB\n"
     ]
    }
   ],
   "source": [
    "df.info()"
   ]
  },
  {
   "cell_type": "markdown",
   "metadata": {},
   "source": [
    "**most of data are non-null** so i will postpone deletion na for a while"
   ]
  },
  {
   "cell_type": "code",
   "execution_count": 21,
   "metadata": {},
   "outputs": [
    {
     "data": {
      "text/html": [
       "<div>\n",
       "<style scoped>\n",
       "    .dataframe tbody tr th:only-of-type {\n",
       "        vertical-align: middle;\n",
       "    }\n",
       "\n",
       "    .dataframe tbody tr th {\n",
       "        vertical-align: top;\n",
       "    }\n",
       "\n",
       "    .dataframe thead th {\n",
       "        text-align: right;\n",
       "    }\n",
       "</style>\n",
       "<table border=\"1\" class=\"dataframe\">\n",
       "  <thead>\n",
       "    <tr style=\"text-align: right;\">\n",
       "      <th></th>\n",
       "      <th>popularity</th>\n",
       "      <th>runtime</th>\n",
       "      <th>vote_count</th>\n",
       "      <th>vote_average</th>\n",
       "      <th>release_year</th>\n",
       "      <th>budget_adj</th>\n",
       "      <th>revenue_adj</th>\n",
       "      <th>net_profit</th>\n",
       "    </tr>\n",
       "  </thead>\n",
       "  <tbody>\n",
       "    <tr>\n",
       "      <th>count</th>\n",
       "      <td>10865.000000</td>\n",
       "      <td>10865.000000</td>\n",
       "      <td>10865.000000</td>\n",
       "      <td>10865.000000</td>\n",
       "      <td>10865.000000</td>\n",
       "      <td>1.086500e+04</td>\n",
       "      <td>1.086500e+04</td>\n",
       "      <td>1.086500e+04</td>\n",
       "    </tr>\n",
       "    <tr>\n",
       "      <th>mean</th>\n",
       "      <td>0.646446</td>\n",
       "      <td>102.071790</td>\n",
       "      <td>217.399632</td>\n",
       "      <td>5.975012</td>\n",
       "      <td>2001.321859</td>\n",
       "      <td>1.754989e+07</td>\n",
       "      <td>5.136900e+07</td>\n",
       "      <td>3.381911e+07</td>\n",
       "    </tr>\n",
       "    <tr>\n",
       "      <th>std</th>\n",
       "      <td>1.000231</td>\n",
       "      <td>31.382701</td>\n",
       "      <td>575.644627</td>\n",
       "      <td>0.935138</td>\n",
       "      <td>12.813260</td>\n",
       "      <td>3.430753e+07</td>\n",
       "      <td>1.446383e+08</td>\n",
       "      <td>1.252194e+08</td>\n",
       "    </tr>\n",
       "    <tr>\n",
       "      <th>min</th>\n",
       "      <td>0.000065</td>\n",
       "      <td>0.000000</td>\n",
       "      <td>10.000000</td>\n",
       "      <td>1.500000</td>\n",
       "      <td>1960.000000</td>\n",
       "      <td>0.000000e+00</td>\n",
       "      <td>0.000000e+00</td>\n",
       "      <td>-4.139124e+08</td>\n",
       "    </tr>\n",
       "    <tr>\n",
       "      <th>25%</th>\n",
       "      <td>0.207575</td>\n",
       "      <td>90.000000</td>\n",
       "      <td>17.000000</td>\n",
       "      <td>5.400000</td>\n",
       "      <td>1995.000000</td>\n",
       "      <td>0.000000e+00</td>\n",
       "      <td>0.000000e+00</td>\n",
       "      <td>0.000000e+00</td>\n",
       "    </tr>\n",
       "    <tr>\n",
       "      <th>50%</th>\n",
       "      <td>0.383831</td>\n",
       "      <td>99.000000</td>\n",
       "      <td>38.000000</td>\n",
       "      <td>6.000000</td>\n",
       "      <td>2006.000000</td>\n",
       "      <td>0.000000e+00</td>\n",
       "      <td>0.000000e+00</td>\n",
       "      <td>0.000000e+00</td>\n",
       "    </tr>\n",
       "    <tr>\n",
       "      <th>75%</th>\n",
       "      <td>0.713857</td>\n",
       "      <td>111.000000</td>\n",
       "      <td>146.000000</td>\n",
       "      <td>6.600000</td>\n",
       "      <td>2011.000000</td>\n",
       "      <td>2.085325e+07</td>\n",
       "      <td>3.370173e+07</td>\n",
       "      <td>1.293091e+07</td>\n",
       "    </tr>\n",
       "    <tr>\n",
       "      <th>max</th>\n",
       "      <td>32.985763</td>\n",
       "      <td>900.000000</td>\n",
       "      <td>9767.000000</td>\n",
       "      <td>9.200000</td>\n",
       "      <td>2015.000000</td>\n",
       "      <td>4.250000e+08</td>\n",
       "      <td>2.827124e+09</td>\n",
       "      <td>2.750137e+09</td>\n",
       "    </tr>\n",
       "  </tbody>\n",
       "</table>\n",
       "</div>"
      ],
      "text/plain": [
       "         popularity       runtime    vote_count  vote_average  release_year  \\\n",
       "count  10865.000000  10865.000000  10865.000000  10865.000000  10865.000000   \n",
       "mean       0.646446    102.071790    217.399632      5.975012   2001.321859   \n",
       "std        1.000231     31.382701    575.644627      0.935138     12.813260   \n",
       "min        0.000065      0.000000     10.000000      1.500000   1960.000000   \n",
       "25%        0.207575     90.000000     17.000000      5.400000   1995.000000   \n",
       "50%        0.383831     99.000000     38.000000      6.000000   2006.000000   \n",
       "75%        0.713857    111.000000    146.000000      6.600000   2011.000000   \n",
       "max       32.985763    900.000000   9767.000000      9.200000   2015.000000   \n",
       "\n",
       "         budget_adj   revenue_adj    net_profit  \n",
       "count  1.086500e+04  1.086500e+04  1.086500e+04  \n",
       "mean   1.754989e+07  5.136900e+07  3.381911e+07  \n",
       "std    3.430753e+07  1.446383e+08  1.252194e+08  \n",
       "min    0.000000e+00  0.000000e+00 -4.139124e+08  \n",
       "25%    0.000000e+00  0.000000e+00  0.000000e+00  \n",
       "50%    0.000000e+00  0.000000e+00  0.000000e+00  \n",
       "75%    2.085325e+07  3.370173e+07  1.293091e+07  \n",
       "max    4.250000e+08  2.827124e+09  2.750137e+09  "
      ]
     },
     "execution_count": 21,
     "metadata": {},
     "output_type": "execute_result"
    }
   ],
   "source": [
    "df.describe()"
   ]
  },
  {
   "cell_type": "markdown",
   "metadata": {},
   "source": [
    "<a id='eda'></a>\n",
    "## Exploratory Data Analysis\n",
    "\n",
    "\n",
    "\n",
    "### Research Question 1 (what are the most and least 12 net profit movies?)"
   ]
  },
  {
   "cell_type": "markdown",
   "metadata": {},
   "source": [
    "**making** a dataframe called df_h12 that contain our original df but sorted by net_profit column in descending way so that i can have the highest 12 values..then visualizing it in bar graph"
   ]
  },
  {
   "cell_type": "code",
   "execution_count": 22,
   "metadata": {},
   "outputs": [
    {
     "data": {
      "image/png": "[encoded data removed]",
      "text/plain": [
       "<matplotlib.figure.Figure at 0x7f4c6321fb38>"
      ]
     },
     "metadata": {
      "needs_background": "light"
     },
     "output_type": "display_data"
    }
   ],
   "source": [
    "df_h12=df.sort_values('net_profit',ascending=False).head(12)\n",
    "df_h12.plot(kind='bar',x='original_title',y='net_profit',figsize=(15,5),legend=False,color='b')\n",
    "plt.title('most 12 net profit movies',fontsize=20)\n",
    "plt.ylabel('net profit in 1e9',fontsize=16)\n",
    "plt.xlabel('film name',fontsize=16);\n"
   ]
  },
  {
   "cell_type": "markdown",
   "metadata": {},
   "source": [
    "**making** a dataframe called df_l12 that contain our original df but sorted by net_profit column in ascending way so that i can have the lowest 12 values.then visualizing it in bar graph"
   ]
  },
  {
   "cell_type": "code",
   "execution_count": 23,
   "metadata": {},
   "outputs": [
    {
     "data": {
      "image/png": "[encoded data removed]",
      "text/plain": [
       "<matplotlib.figure.Figure at 0x7f4c631e1fd0>"
      ]
     },
     "metadata": {
      "needs_background": "light"
     },
     "output_type": "display_data"
    }
   ],
   "source": [
    "df_l12=df.sort_values('net_profit').head(12)\n",
    "df_l12.plot(kind='bar',x='original_title',y='net_profit',figsize=(15,5),legend=False,color='r')\n",
    "plt.title('least 12 net profit movies',fontsize=20)\n",
    "plt.ylabel('net profit in 1e8',fontsize=16)\n",
    "plt.xlabel('film name',fontsize=16);"
   ]
  },
  {
   "cell_type": "markdown",
   "metadata": {},
   "source": [
    "### Research Question 2 (what are the most and least popular movie?)"
   ]
  },
  {
   "cell_type": "markdown",
   "metadata": {},
   "source": [
    "**using** boolean indexing to gain the title of most and least popular films"
   ]
  },
  {
   "cell_type": "code",
   "execution_count": 24,
   "metadata": {},
   "outputs": [],
   "source": [
    "most_pop=df.original_title[df['popularity']==df['popularity'].max()][0]"
   ]
  },
  {
   "cell_type": "code",
   "execution_count": 25,
   "metadata": {},
   "outputs": [
    {
     "name": "stdout",
     "output_type": "stream",
     "text": [
      "most popular movie is :  Jurassic World\n"
     ]
    }
   ],
   "source": [
    "print('most popular movie is : ',most_pop)"
   ]
  },
  {
   "cell_type": "markdown",
   "metadata": {},
   "source": [
    "**most popular movie is :  Jurassic World**"
   ]
  },
  {
   "cell_type": "code",
   "execution_count": 28,
   "metadata": {},
   "outputs": [
    {
     "data": {
      "text/plain": [
       "6180    North and South, Book I\n",
       "Name: original_title, dtype: object"
      ]
     },
     "execution_count": 28,
     "metadata": {},
     "output_type": "execute_result"
    }
   ],
   "source": [
    "df.original_title[df['popularity']==df['popularity'].min()]"
   ]
  },
  {
   "cell_type": "markdown",
   "metadata": {},
   "source": [
    "**least popular movie is : North and South, Book I**"
   ]
  },
  {
   "cell_type": "code",
   "execution_count": 29,
   "metadata": {},
   "outputs": [],
   "source": [
    "split_list=['cast','genres','production_companies','director']"
   ]
  },
  {
   "cell_type": "code",
   "execution_count": 30,
   "metadata": {},
   "outputs": [],
   "source": [
    "for x in split_list:\n",
    "    df[x]=df[x].str.split('|')"
   ]
  },
  {
   "cell_type": "markdown",
   "metadata": {},
   "source": [
    "## splitting \n",
    ">i will split these column for further investigation as they have more than one item so i can do the explosion on them"
   ]
  },
  {
   "cell_type": "markdown",
   "metadata": {},
   "source": [
    "### Research Question 3 (what are the most frequent movie types?)"
   ]
  },
  {
   "cell_type": "markdown",
   "metadata": {},
   "source": [
    "now i will make a new dataframe called film_types that contain 4 columns an addition to genres ..i think they vey useful for my investigation"
   ]
  },
  {
   "cell_type": "code",
   "execution_count": 31,
   "metadata": {},
   "outputs": [],
   "source": [
    "film_types=df[['genres','net_profit','runtime','popularity','vote_average']]"
   ]
  },
  {
   "cell_type": "markdown",
   "metadata": {},
   "source": [
    "**a new df called film_types contain basicly genres column and some other column for investigation**"
   ]
  },
  {
   "cell_type": "markdown",
   "metadata": {},
   "source": [
    "exploding the genres column to make each movie type in one row"
   ]
  },
  {
   "cell_type": "code",
   "execution_count": 32,
   "metadata": {},
   "outputs": [],
   "source": [
    "film_types=film_types.explode('genres',ignore_index=True)"
   ]
  },
  {
   "cell_type": "markdown",
   "metadata": {},
   "source": [
    "now i can do investigation on each individual type..like the most frequent type over the period of time"
   ]
  },
  {
   "cell_type": "code",
   "execution_count": 33,
   "metadata": {},
   "outputs": [
    {
     "data": {
      "image/png": "[encoded data removed]",
      "text/plain": [
       "<matplotlib.figure.Figure at 0x7f4c6397ce10>"
      ]
     },
     "metadata": {
      "needs_background": "light"
     },
     "output_type": "display_data"
    }
   ],
   "source": [
    "film_types.genres.value_counts().plot(kind='bar',figsize=(15,5))\n",
    "plt.title('Movies types',fontsize=18 )\n",
    "plt.xlabel('Type',fontsize=16)\n",
    "plt.ylabel('Frequency',fontsize=16);"
   ]
  },
  {
   "cell_type": "markdown",
   "metadata": {},
   "source": [
    "**Drama Movies** are the most frequent type while **western** are the least"
   ]
  },
  {
   "cell_type": "markdown",
   "metadata": {},
   "source": [
    "### Research Question 4(what are the longest and shortest type of movies?)"
   ]
  },
  {
   "cell_type": "markdown",
   "metadata": {},
   "source": [
    "grouping by genres and find the mean of each other column and putting them in dataframe called mean"
   ]
  },
  {
   "cell_type": "code",
   "execution_count": 34,
   "metadata": {},
   "outputs": [
    {
     "data": {
      "text/html": [
       "<div>\n",
       "<style scoped>\n",
       "    .dataframe tbody tr th:only-of-type {\n",
       "        vertical-align: middle;\n",
       "    }\n",
       "\n",
       "    .dataframe tbody tr th {\n",
       "        vertical-align: top;\n",
       "    }\n",
       "\n",
       "    .dataframe thead th {\n",
       "        text-align: right;\n",
       "    }\n",
       "</style>\n",
       "<table border=\"1\" class=\"dataframe\">\n",
       "  <thead>\n",
       "    <tr style=\"text-align: right;\">\n",
       "      <th></th>\n",
       "      <th>net_profit</th>\n",
       "      <th>runtime</th>\n",
       "      <th>popularity</th>\n",
       "      <th>vote_average</th>\n",
       "    </tr>\n",
       "    <tr>\n",
       "      <th>genres</th>\n",
       "      <th></th>\n",
       "      <th></th>\n",
       "      <th></th>\n",
       "      <th></th>\n",
       "    </tr>\n",
       "  </thead>\n",
       "  <tbody>\n",
       "    <tr>\n",
       "      <th>Action</th>\n",
       "      <td>5.879816e+07</td>\n",
       "      <td>104.917785</td>\n",
       "      <td>0.926274</td>\n",
       "      <td>5.787752</td>\n",
       "    </tr>\n",
       "    <tr>\n",
       "      <th>Adventure</th>\n",
       "      <td>9.773789e+07</td>\n",
       "      <td>106.173351</td>\n",
       "      <td>1.154259</td>\n",
       "      <td>5.940585</td>\n",
       "    </tr>\n",
       "    <tr>\n",
       "      <th>Animation</th>\n",
       "      <td>5.996078e+07</td>\n",
       "      <td>68.181688</td>\n",
       "      <td>0.852182</td>\n",
       "      <td>6.403147</td>\n",
       "    </tr>\n",
       "    <tr>\n",
       "      <th>Comedy</th>\n",
       "      <td>3.197669e+07</td>\n",
       "      <td>96.745057</td>\n",
       "      <td>0.592607</td>\n",
       "      <td>5.905167</td>\n",
       "    </tr>\n",
       "    <tr>\n",
       "      <th>Crime</th>\n",
       "      <td>3.510290e+07</td>\n",
       "      <td>106.917282</td>\n",
       "      <td>0.744930</td>\n",
       "      <td>6.124889</td>\n",
       "    </tr>\n",
       "    <tr>\n",
       "      <th>Documentary</th>\n",
       "      <td>1.634988e+06</td>\n",
       "      <td>102.651923</td>\n",
       "      <td>0.181432</td>\n",
       "      <td>6.908462</td>\n",
       "    </tr>\n",
       "    <tr>\n",
       "      <th>Drama</th>\n",
       "      <td>2.556360e+07</td>\n",
       "      <td>110.478151</td>\n",
       "      <td>0.591495</td>\n",
       "      <td>6.165546</td>\n",
       "    </tr>\n",
       "    <tr>\n",
       "      <th>Family</th>\n",
       "      <td>6.081282e+07</td>\n",
       "      <td>89.603574</td>\n",
       "      <td>0.786668</td>\n",
       "      <td>5.997563</td>\n",
       "    </tr>\n",
       "    <tr>\n",
       "      <th>Fantasy</th>\n",
       "      <td>7.380484e+07</td>\n",
       "      <td>100.736900</td>\n",
       "      <td>0.992840</td>\n",
       "      <td>5.863537</td>\n",
       "    </tr>\n",
       "    <tr>\n",
       "      <th>Foreign</th>\n",
       "      <td>-5.948650e+05</td>\n",
       "      <td>107.228723</td>\n",
       "      <td>0.191496</td>\n",
       "      <td>5.981383</td>\n",
       "    </tr>\n",
       "    <tr>\n",
       "      <th>History</th>\n",
       "      <td>2.139056e+07</td>\n",
       "      <td>136.206587</td>\n",
       "      <td>0.575936</td>\n",
       "      <td>6.410479</td>\n",
       "    </tr>\n",
       "    <tr>\n",
       "      <th>Horror</th>\n",
       "      <td>1.631787e+07</td>\n",
       "      <td>94.424557</td>\n",
       "      <td>0.465357</td>\n",
       "      <td>5.337447</td>\n",
       "    </tr>\n",
       "    <tr>\n",
       "      <th>Music</th>\n",
       "      <td>3.366706e+07</td>\n",
       "      <td>105.137255</td>\n",
       "      <td>0.487321</td>\n",
       "      <td>6.480392</td>\n",
       "    </tr>\n",
       "    <tr>\n",
       "      <th>Mystery</th>\n",
       "      <td>3.140699e+07</td>\n",
       "      <td>105.928395</td>\n",
       "      <td>0.690012</td>\n",
       "      <td>5.946790</td>\n",
       "    </tr>\n",
       "    <tr>\n",
       "      <th>Romance</th>\n",
       "      <td>3.254100e+07</td>\n",
       "      <td>106.891355</td>\n",
       "      <td>0.592082</td>\n",
       "      <td>6.042874</td>\n",
       "    </tr>\n",
       "    <tr>\n",
       "      <th>Science Fiction</th>\n",
       "      <td>5.745413e+07</td>\n",
       "      <td>99.419854</td>\n",
       "      <td>1.001548</td>\n",
       "      <td>5.665582</td>\n",
       "    </tr>\n",
       "    <tr>\n",
       "      <th>TV Movie</th>\n",
       "      <td>5.361383e+04</td>\n",
       "      <td>91.982036</td>\n",
       "      <td>0.270896</td>\n",
       "      <td>5.788024</td>\n",
       "    </tr>\n",
       "    <tr>\n",
       "      <th>Thriller</th>\n",
       "      <td>3.460314e+07</td>\n",
       "      <td>103.247678</td>\n",
       "      <td>0.741563</td>\n",
       "      <td>5.750671</td>\n",
       "    </tr>\n",
       "    <tr>\n",
       "      <th>War</th>\n",
       "      <td>4.105605e+07</td>\n",
       "      <td>127.625926</td>\n",
       "      <td>0.727683</td>\n",
       "      <td>6.297778</td>\n",
       "    </tr>\n",
       "    <tr>\n",
       "      <th>Western</th>\n",
       "      <td>2.160382e+07</td>\n",
       "      <td>117.575758</td>\n",
       "      <td>0.590615</td>\n",
       "      <td>6.083030</td>\n",
       "    </tr>\n",
       "  </tbody>\n",
       "</table>\n",
       "</div>"
      ],
      "text/plain": [
       "                   net_profit     runtime  popularity  vote_average\n",
       "genres                                                             \n",
       "Action           5.879816e+07  104.917785    0.926274      5.787752\n",
       "Adventure        9.773789e+07  106.173351    1.154259      5.940585\n",
       "Animation        5.996078e+07   68.181688    0.852182      6.403147\n",
       "Comedy           3.197669e+07   96.745057    0.592607      5.905167\n",
       "Crime            3.510290e+07  106.917282    0.744930      6.124889\n",
       "Documentary      1.634988e+06  102.651923    0.181432      6.908462\n",
       "Drama            2.556360e+07  110.478151    0.591495      6.165546\n",
       "Family           6.081282e+07   89.603574    0.786668      5.997563\n",
       "Fantasy          7.380484e+07  100.736900    0.992840      5.863537\n",
       "Foreign         -5.948650e+05  107.228723    0.191496      5.981383\n",
       "History          2.139056e+07  136.206587    0.575936      6.410479\n",
       "Horror           1.631787e+07   94.424557    0.465357      5.337447\n",
       "Music            3.366706e+07  105.137255    0.487321      6.480392\n",
       "Mystery          3.140699e+07  105.928395    0.690012      5.946790\n",
       "Romance          3.254100e+07  106.891355    0.592082      6.042874\n",
       "Science Fiction  5.745413e+07   99.419854    1.001548      5.665582\n",
       "TV Movie         5.361383e+04   91.982036    0.270896      5.788024\n",
       "Thriller         3.460314e+07  103.247678    0.741563      5.750671\n",
       "War              4.105605e+07  127.625926    0.727683      6.297778\n",
       "Western          2.160382e+07  117.575758    0.590615      6.083030"
      ]
     },
     "execution_count": 34,
     "metadata": {},
     "output_type": "execute_result"
    }
   ],
   "source": [
    "mean=film_types.groupby('genres')[['net_profit','runtime','popularity','vote_average']].mean()\n",
    "mean"
   ]
  },
  {
   "cell_type": "markdown",
   "metadata": {},
   "source": [
    "## Mean \n",
    ">finding mean of each column for each movie type"
   ]
  },
  {
   "cell_type": "markdown",
   "metadata": {},
   "source": [
    "sorting the mean dataframe by runtime then plotting runtime column in bar chart to give the runtime of each type of movies"
   ]
  },
  {
   "cell_type": "code",
   "execution_count": 35,
   "metadata": {},
   "outputs": [
    {
     "data": {
      "image/png": "[encoded data removed]",
      "text/plain": [
       "<matplotlib.figure.Figure at 0x7f4c639ddd68>"
      ]
     },
     "metadata": {
      "needs_background": "light"
     },
     "output_type": "display_data"
    }
   ],
   "source": [
    "mean=mean.sort_values('runtime')\n",
    "mean['runtime'].plot(kind=\"bar\",color='b',figsize=(15,5));\n",
    "plt.title('Movies types against there runtime',fontsize=18 )\n",
    "plt.xlabel('Type',fontsize=16)\n",
    "plt.ylabel('run time in min',fontsize=16);"
   ]
  },
  {
   "cell_type": "markdown",
   "metadata": {},
   "source": [
    "longest type is **histoy** while shortest is **animation**"
   ]
  },
  {
   "cell_type": "markdown",
   "metadata": {},
   "source": [
    "### Research Question 5(what are the types that give highest net profit?)"
   ]
  },
  {
   "cell_type": "markdown",
   "metadata": {},
   "source": [
    "sorting the mean dataframe by net_profit then plotting net_profit column in bar chart to give the net_profit of each type of movies"
   ]
  },
  {
   "cell_type": "code",
   "execution_count": 36,
   "metadata": {},
   "outputs": [
    {
     "data": {
      "image/png": "[encoded data removed]",
      "text/plain": [
       "<matplotlib.figure.Figure at 0x7f4c6321f198>"
      ]
     },
     "metadata": {
      "needs_background": "light"
     },
     "output_type": "display_data"
    }
   ],
   "source": [
    "mean=mean.sort_values('net_profit')\n",
    "mean['net_profit'].plot(kind=\"bar\",color='r',figsize=(15,5));\n",
    "plt.title('Movies types against there net profit',fontsize=18 )\n",
    "plt.xlabel('Type',fontsize=16)\n",
    "plt.ylabel('net profit',fontsize=16);"
   ]
  },
  {
   "cell_type": "markdown",
   "metadata": {},
   "source": [
    "**Adventure** movies are the most profitable types while **foreign** movies are the least"
   ]
  },
  {
   "cell_type": "markdown",
   "metadata": {},
   "source": [
    "### Research Question 6(what are the most and least popular type of movies?)"
   ]
  },
  {
   "cell_type": "markdown",
   "metadata": {},
   "source": [
    "sorting the mean dataframe by popularity then plotting popularity column in bar chart to give the popularity of each type of movies"
   ]
  },
  {
   "cell_type": "code",
   "execution_count": 37,
   "metadata": {},
   "outputs": [
    {
     "data": {
      "image/png": "[encoded data removed]",
      "text/plain": [
       "<matplotlib.figure.Figure at 0x7f4c6d659588>"
      ]
     },
     "metadata": {
      "needs_background": "light"
     },
     "output_type": "display_data"
    }
   ],
   "source": [
    "mean=mean.sort_values('popularity')\n",
    "mean['popularity'].plot(kind=\"bar\",color='y',figsize=(15,5));\n",
    "plt.title('Movies types against there popularity',fontsize=18 )\n",
    "plt.xlabel('Type',fontsize=16)\n",
    "plt.ylabel('popularity',fontsize=16);"
   ]
  },
  {
   "cell_type": "markdown",
   "metadata": {},
   "source": [
    "**adventure movies** are the most popular while **documentary** are the least"
   ]
  },
  {
   "cell_type": "markdown",
   "metadata": {},
   "source": [
    "## Research Question 7(what are the most and least vote average movies?)"
   ]
  },
  {
   "cell_type": "markdown",
   "metadata": {},
   "source": [
    "sorting the mean dataframe by vote_average then plotting vote_average column in bar chart to give the vote_average of each type of movies"
   ]
  },
  {
   "cell_type": "code",
   "execution_count": 38,
   "metadata": {},
   "outputs": [
    {
     "data": {
      "image/png": "[encoded data removed]",
      "text/plain": [
       "<matplotlib.figure.Figure at 0x7f4c6c55ed30>"
      ]
     },
     "metadata": {
      "needs_background": "light"
     },
     "output_type": "display_data"
    }
   ],
   "source": [
    "mean=mean.sort_values('vote_average')\n",
    "mean['vote_average'].plot(kind=\"bar\",color='g',figsize=(15,5));\n",
    "plt.title('Movies types against there vote average',fontsize=18 )\n",
    "plt.xlabel('Type',fontsize=16)\n",
    "plt.ylabel('vote average',fontsize=16);"
   ]
  },
  {
   "cell_type": "markdown",
   "metadata": {},
   "source": [
    "**documentary movies** have most vote average while **horror** have the least"
   ]
  },
  {
   "cell_type": "markdown",
   "metadata": {},
   "source": [
    "## Research Question 8(At which year more movies released?)"
   ]
  },
  {
   "cell_type": "markdown",
   "metadata": {},
   "source": [
    "from the original datafram(df) counting each release year using value_counts giving us how many movies released in each year"
   ]
  },
  {
   "cell_type": "code",
   "execution_count": 39,
   "metadata": {},
   "outputs": [
    {
     "data": {
      "image/png": "[encoded data removed]",
      "text/plain": [
       "<matplotlib.figure.Figure at 0x7f4c6d386860>"
      ]
     },
     "metadata": {
      "needs_background": "light"
     },
     "output_type": "display_data"
    }
   ],
   "source": [
    "df.release_year.value_counts().plot(kind='bar',figsize=(20,5))\n",
    "plt.xlabel('the year',fontsize=16)\n",
    "plt.ylabel('No. of movies',fontsize=16)           \n",
    "plt.title(\"Movies released each year\",fontsize=20);"
   ]
  },
  {
   "cell_type": "markdown",
   "metadata": {},
   "source": [
    "At **2014** most no of movies released"
   ]
  },
  {
   "cell_type": "markdown",
   "metadata": {},
   "source": [
    "## Research Question 9(whose actor that present more in each type ?)"
   ]
  },
  {
   "cell_type": "markdown",
   "metadata": {},
   "source": [
    "here i will make a new datafram called df_cg that cantain genres and cast columns then explode the 2 columns to each other to get each single actor in each single genres .then make a list that contain each unique movies types so that i can make for loop on each type to get the most actor in them"
   ]
  },
  {
   "cell_type": "code",
   "execution_count": 40,
   "metadata": {},
   "outputs": [],
   "source": [
    "df_gc=df[['genres','cast']]"
   ]
  },
  {
   "cell_type": "code",
   "execution_count": 41,
   "metadata": {},
   "outputs": [],
   "source": [
    "df_gc=df_gc.explode('genres').explode('cast',ignore_index=True)"
   ]
  },
  {
   "cell_type": "code",
   "execution_count": 42,
   "metadata": {},
   "outputs": [
    {
     "data": {
      "text/plain": [
       "array(['Action', 'Adventure', 'Science Fiction', 'Thriller', 'Fantasy',\n",
       "       'Crime', 'Western', 'Drama', 'Family', 'Animation', 'Comedy',\n",
       "       'Mystery', 'Romance', 'War', 'History', 'Music', 'Horror',\n",
       "       'Documentary', 'TV Movie', nan, 'Foreign'], dtype=object)"
      ]
     },
     "execution_count": 42,
     "metadata": {},
     "output_type": "execute_result"
    }
   ],
   "source": [
    "df_gc.genres.unique()"
   ]
  },
  {
   "cell_type": "code",
   "execution_count": 43,
   "metadata": {},
   "outputs": [],
   "source": [
    "type_list=['Action', 'Adventure', 'Science Fiction', 'Thriller', 'Fantasy',\n",
    "       'Crime', 'Western', 'Drama', 'Family', 'Animation', 'Comedy',\n",
    "       'Mystery', 'Romance', 'War', 'History', 'Music', 'Horror',\n",
    "       'Documentary', 'TV Movie','Foreign']"
   ]
  },
  {
   "cell_type": "code",
   "execution_count": 44,
   "metadata": {},
   "outputs": [
    {
     "name": "stdout",
     "output_type": "stream",
     "text": [
      "The most actor in (Action) movies is (Jean-Claude Van Damme)\n",
      "The most actor in (Adventure) movies is (Sean Connery)\n",
      "The most actor in (Science Fiction) movies is (Patrick Stewart)\n",
      "The most actor in (Thriller) movies is (Bruce Willis)\n",
      "The most actor in (Fantasy) movies is (Eddie Murphy)\n",
      "The most actor in (Crime) movies is (Samuel L. Jackson)\n",
      "The most actor in (Western) movies is (John Wayne)\n",
      "The most actor in (Drama) movies is (Robert De Niro)\n",
      "The most actor in (Family) movies is (Frank Welker)\n",
      "The most actor in (Animation) movies is (Frank Welker)\n",
      "The most actor in (Comedy) movies is (Eddie Murphy)\n",
      "The most actor in (Mystery) movies is (Morgan Freeman)\n",
      "The most actor in (Romance) movies is (Drew Barrymore)\n",
      "The most actor in (War) movies is (Brad Pitt)\n",
      "The most actor in (History) movies is (Anthony Hopkins)\n",
      "The most actor in (Music) movies is (Paul McCartney)\n",
      "The most actor in (Horror) movies is (Robert Englund)\n",
      "The most actor in (Documentary) movies is (George W. Bush)\n",
      "The most actor in (TV Movie) movies is (Anthony Quinn)\n",
      "The most actor in (Foreign) movies is (Akshay Kumar)\n"
     ]
    }
   ],
   "source": [
    "for t in type_list:\n",
    "    df_type = df_gc[df_gc['genres']==t]\n",
    "    print('The most actor in ({}) movies is ({})'.format(t,df_type['cast'].mode()[0]))\n",
    "   "
   ]
  },
  {
   "cell_type": "markdown",
   "metadata": {},
   "source": [
    "## Research Question 10(Which genres are most released fom year to year ?)\n"
   ]
  },
  {
   "cell_type": "markdown",
   "metadata": {},
   "source": [
    "the same thing here but with genres and release_year"
   ]
  },
  {
   "cell_type": "code",
   "execution_count": 45,
   "metadata": {},
   "outputs": [],
   "source": [
    "df_gy=df[['genres','release_year']].sort_values('release_year')"
   ]
  },
  {
   "cell_type": "code",
   "execution_count": 46,
   "metadata": {},
   "outputs": [],
   "source": [
    "df_gy=df_gy.explode('genres',ignore_index=True)"
   ]
  },
  {
   "cell_type": "code",
   "execution_count": 47,
   "metadata": {},
   "outputs": [
    {
     "data": {
      "text/plain": [
       "array([1960, 1961, 1962, 1963, 1964, 1965, 1966, 1967, 1968, 1969, 1970,\n",
       "       1971, 1972, 1973, 1974, 1975, 1976, 1977, 1978, 1979, 1980, 1981,\n",
       "       1982, 1983, 1984, 1985, 1986, 1987, 1988, 1989, 1990, 1991, 1992,\n",
       "       1993, 1994, 1995, 1996, 1997, 1998, 1999, 2000, 2001, 2002, 2003,\n",
       "       2004, 2005, 2006, 2007, 2008, 2009, 2010, 2011, 2012, 2013, 2014,\n",
       "       2015])"
      ]
     },
     "execution_count": 47,
     "metadata": {},
     "output_type": "execute_result"
    }
   ],
   "source": [
    "df_gy.release_year.unique()"
   ]
  },
  {
   "cell_type": "code",
   "execution_count": 48,
   "metadata": {},
   "outputs": [],
   "source": [
    "years_list=[1960, 1961, 1962, 1963, 1964, 1965, 1966, 1967, 1968, 1969, 1970,\n",
    "       1971, 1972, 1973, 1974, 1975, 1976, 1977, 1978, 1979, 1980, 1981,\n",
    "       1982, 1983, 1984, 1985, 1986, 1987, 1988, 1989, 1990, 1991, 1992,\n",
    "       1993, 1994, 1995, 1996, 1997, 1998, 1999, 2000, 2001, 2002, 2003,\n",
    "       2004, 2005, 2006, 2007, 2008, 2009, 2010, 2011, 2012, 2013, 2014,\n",
    "       2015]"
   ]
  },
  {
   "cell_type": "code",
   "execution_count": 49,
   "metadata": {},
   "outputs": [
    {
     "name": "stdout",
     "output_type": "stream",
     "text": [
      "The most movies type in year (1960) is (Drama)\n",
      "The most movies type in year (1961) is (Drama)\n",
      "The most movies type in year (1962) is (Drama)\n",
      "The most movies type in year (1963) is (Comedy)\n",
      "The most movies type in year (1964) is (Drama)\n",
      "The most movies type in year (1965) is (Drama)\n",
      "The most movies type in year (1966) is (Comedy)\n",
      "The most movies type in year (1967) is (Comedy)\n",
      "The most movies type in year (1968) is (Drama)\n",
      "The most movies type in year (1969) is (Drama)\n",
      "The most movies type in year (1970) is (Drama)\n",
      "The most movies type in year (1971) is (Drama)\n",
      "The most movies type in year (1972) is (Drama)\n",
      "The most movies type in year (1973) is (Drama)\n",
      "The most movies type in year (1974) is (Drama)\n",
      "The most movies type in year (1975) is (Drama)\n",
      "The most movies type in year (1976) is (Drama)\n",
      "The most movies type in year (1977) is (Drama)\n",
      "The most movies type in year (1978) is (Drama)\n",
      "The most movies type in year (1979) is (Drama)\n",
      "The most movies type in year (1980) is (Drama)\n",
      "The most movies type in year (1981) is (Drama)\n",
      "The most movies type in year (1982) is (Drama)\n",
      "The most movies type in year (1983) is (Drama)\n",
      "The most movies type in year (1984) is (Drama)\n",
      "The most movies type in year (1985) is (Comedy)\n",
      "The most movies type in year (1986) is (Drama)\n",
      "The most movies type in year (1987) is (Comedy)\n",
      "The most movies type in year (1988) is (Comedy)\n",
      "The most movies type in year (1989) is (Comedy)\n",
      "The most movies type in year (1990) is (Drama)\n",
      "The most movies type in year (1991) is (Drama)\n",
      "The most movies type in year (1992) is (Drama)\n",
      "The most movies type in year (1993) is (Drama)\n",
      "The most movies type in year (1994) is (Comedy)\n",
      "The most movies type in year (1995) is (Drama)\n",
      "The most movies type in year (1996) is (Drama)\n",
      "The most movies type in year (1997) is (Drama)\n",
      "The most movies type in year (1998) is (Drama)\n",
      "The most movies type in year (1999) is (Drama)\n",
      "The most movies type in year (2000) is (Drama)\n",
      "The most movies type in year (2001) is (Comedy)\n",
      "The most movies type in year (2002) is (Drama)\n",
      "The most movies type in year (2003) is (Comedy)\n",
      "The most movies type in year (2004) is (Drama)\n",
      "The most movies type in year (2005) is (Drama)\n",
      "The most movies type in year (2006) is (Drama)\n",
      "The most movies type in year (2007) is (Drama)\n",
      "The most movies type in year (2008) is (Drama)\n",
      "The most movies type in year (2009) is (Drama)\n",
      "The most movies type in year (2010) is (Drama)\n",
      "The most movies type in year (2011) is (Drama)\n",
      "The most movies type in year (2012) is (Drama)\n",
      "The most movies type in year (2013) is (Drama)\n",
      "The most movies type in year (2014) is (Drama)\n",
      "The most movies type in year (2015) is (Drama)\n"
     ]
    }
   ],
   "source": [
    "for y in years_list:\n",
    "    df_year=df_gy[df_gy['release_year']==y]\n",
    "    print('The most movies type in year ({}) is ({})'.format(y,df_year['genres'].mode()[0]))"
   ]
  },
  {
   "cell_type": "markdown",
   "metadata": {},
   "source": [
    "it is very obvious that **drama movies** is the most type released almost every year"
   ]
  },
  {
   "cell_type": "markdown",
   "metadata": {},
   "source": [
    "## Research Question 11(Which production companies are making more profits ?)"
   ]
  },
  {
   "cell_type": "markdown",
   "metadata": {},
   "source": [
    "making new dataframe called df_pr that contain net_profit and production_companies . because there are a lot of missing values in production_companies i will use dropna .then explode production_companies column and grouped by production_companies and find the mean of net_profit for each production company"
   ]
  },
  {
   "cell_type": "code",
   "execution_count": 50,
   "metadata": {},
   "outputs": [],
   "source": [
    "df_pr=df[['net_profit','production_companies']]"
   ]
  },
  {
   "cell_type": "code",
   "execution_count": 51,
   "metadata": {},
   "outputs": [
    {
     "data": {
      "text/plain": [
       "1030"
      ]
     },
     "execution_count": 51,
     "metadata": {},
     "output_type": "execute_result"
    }
   ],
   "source": [
    "df_pr.isnull().sum().sum()"
   ]
  },
  {
   "cell_type": "code",
   "execution_count": 52,
   "metadata": {},
   "outputs": [],
   "source": [
    "df_pr=df_pr.dropna()"
   ]
  },
  {
   "cell_type": "code",
   "execution_count": 53,
   "metadata": {},
   "outputs": [],
   "source": [
    "df_pr=df_pr.explode('production_companies',ignore_index=True)"
   ]
  },
  {
   "cell_type": "code",
   "execution_count": 54,
   "metadata": {},
   "outputs": [],
   "source": [
    "highest_10=df_pr.groupby('production_companies')['net_profit'].mean().sort_values(ascending=False).head(10)"
   ]
  },
  {
   "cell_type": "code",
   "execution_count": 55,
   "metadata": {},
   "outputs": [
    {
     "data": {
      "image/png": "[encoded data removed]",
      "text/plain": [
       "<matplotlib.figure.Figure at 0x7f4c6d40bdd8>"
      ]
     },
     "metadata": {
      "needs_background": "light"
     },
     "output_type": "display_data"
    }
   ],
   "source": [
    "highest_10.plot(kind='bar',figsize=(15,5));\n",
    "plt.title(\"Highest 10 production companies in net profit\",fontsize=20)\n",
    "plt.xlabel('name of production company',fontsize=16)\n",
    "plt.ylabel('net profit',fontsize=16);"
   ]
  },
  {
   "cell_type": "markdown",
   "metadata": {},
   "source": [
    "**hoya productions** is the most production company that made gains"
   ]
  },
  {
   "cell_type": "markdown",
   "metadata": {},
   "source": [
    "## Research Question 12(Which production company has the most market share?)"
   ]
  },
  {
   "cell_type": "markdown",
   "metadata": {},
   "source": [
    "from df_pr we can counting each production companies and take the first 10 then divided to there sum to have the proportion of each company in com_proportion variable then plot it in pie graph"
   ]
  },
  {
   "cell_type": "code",
   "execution_count": 56,
   "metadata": {},
   "outputs": [],
   "source": [
    "com_proportion=df_pr.production_companies.value_counts().head(10)/df_pr.production_companies.value_counts().head(10).sum()"
   ]
  },
  {
   "cell_type": "code",
   "execution_count": 57,
   "metadata": {},
   "outputs": [
    {
     "data": {
      "image/png": "[encoded data removed]",
      "text/plain": [
       "<matplotlib.figure.Figure at 0x7f4c6cbfbc88>"
      ]
     },
     "metadata": {},
     "output_type": "display_data"
    }
   ],
   "source": [
    "plt.pie(com_proportion,labels=(com_proportion.index), autopct='%1.1f%%',explode=[0.08,0,0,0,0,0,0,0,0,0],shadow=True );\n"
   ]
  },
  {
   "cell_type": "markdown",
   "metadata": {},
   "source": [
    "**universal pictures** has the most market share"
   ]
  },
  {
   "cell_type": "markdown",
   "metadata": {},
   "source": [
    "## Research Question 13(Which genres are most popular fom year to year ?)"
   ]
  },
  {
   "cell_type": "markdown",
   "metadata": {},
   "source": [
    "by the same strategy used in question 9 and 10 "
   ]
  },
  {
   "cell_type": "code",
   "execution_count": 58,
   "metadata": {},
   "outputs": [],
   "source": [
    "df_g=df[['popularity','genres','release_year']].sort_values('release_year')\n"
   ]
  },
  {
   "cell_type": "code",
   "execution_count": 59,
   "metadata": {},
   "outputs": [],
   "source": [
    "years_lis=[1960, 1961, 1962, 1963, 1964, 1965, 1966, 1967, 1968, 1969, 1970,\n",
    "       1971, 1972, 1973, 1974, 1975, 1976, 1977, 1978, 1979, 1980, 1981,\n",
    "       1982, 1983, 1984, 1985, 1986, 1987, 1988, 1989, 1990, 1991, 1992,\n",
    "       1993, 1994, 1995, 1996, 1997, 1998, 1999, 2000, 2001, 2002, 2003,\n",
    "       2004, 2005, 2006, 2007, 2008, 2009, 2010, 2011, 2012, 2013, 2014,\n",
    "       2015]"
   ]
  },
  {
   "cell_type": "code",
   "execution_count": 60,
   "metadata": {},
   "outputs": [
    {
     "name": "stdout",
     "output_type": "stream",
     "text": [
      "The most popular movies types in year (1960) is (['Drama', 'Horror', 'Thriller'])\n",
      "The most popular movies types in year (1961) is (['Adventure', 'Animation', 'Comedy', 'Family'])\n",
      "The most popular movies types in year (1962) is (['Adventure', 'Action', 'Thriller'])\n",
      "The most popular movies types in year (1963) is (['Action', 'Thriller', 'Adventure'])\n",
      "The most popular movies types in year (1964) is (['Adventure', 'Action', 'Thriller'])\n",
      "The most popular movies types in year (1965) is (['Adventure', 'Action', 'Thriller'])\n",
      "The most popular movies types in year (1966) is (['Animation', 'Family', 'Comedy'])\n",
      "The most popular movies types in year (1967) is (['Family', 'Animation', 'Adventure'])\n",
      "The most popular movies types in year (1968) is (['Science Fiction', 'Mystery', 'Adventure'])\n",
      "The most popular movies types in year (1969) is (['Adventure', 'Action', 'Thriller'])\n",
      "The most popular movies types in year (1970) is (['Animation', 'Comedy', 'Family', 'Adventure'])\n",
      "The most popular movies types in year (1971) is (['Science Fiction', 'Drama'])\n",
      "The most popular movies types in year (1972) is (['Drama', 'Crime'])\n",
      "The most popular movies types in year (1973) is (['Animation', 'Family'])\n",
      "The most popular movies types in year (1974) is (['Drama', 'Crime'])\n",
      "The most popular movies types in year (1975) is (['Drama'])\n",
      "The most popular movies types in year (1976) is (['Crime', 'Drama'])\n",
      "The most popular movies types in year (1977) is (['Adventure', 'Action', 'Science Fiction'])\n",
      "The most popular movies types in year (1978) is (['Music'])\n",
      "The most popular movies types in year (1979) is (['Horror', 'Action', 'Thriller', 'Science Fiction'])\n",
      "The most popular movies types in year (1980) is (['Adventure', 'Action', 'Science Fiction'])\n",
      "The most popular movies types in year (1981) is (['Adventure', 'Action'])\n",
      "The most popular movies types in year (1982) is (['Science Fiction', 'Drama', 'Thriller'])\n",
      "The most popular movies types in year (1983) is (['Adventure', 'Action', 'Science Fiction'])\n",
      "The most popular movies types in year (1984) is (['Action', 'Thriller', 'Science Fiction'])\n",
      "The most popular movies types in year (1985) is (['Adventure', 'Comedy', 'Science Fiction', 'Family'])\n",
      "The most popular movies types in year (1986) is (['Horror', 'Action', 'Thriller', 'Science Fiction'])\n",
      "The most popular movies types in year (1987) is (['Science Fiction', 'Action', 'Adventure', 'Thriller'])\n",
      "The most popular movies types in year (1988) is (['Action', 'Thriller'])\n",
      "The most popular movies types in year (1989) is (['Animation', 'Family'])\n",
      "The most popular movies types in year (1990) is (['Action', 'Adventure', 'Science Fiction'])\n",
      "The most popular movies types in year (1991) is (['Romance', 'Family', 'Animation', 'Fantasy', 'Music'])\n",
      "The most popular movies types in year (1992) is (['Crime', 'Thriller'])\n",
      "The most popular movies types in year (1993) is (['Romance', 'Fantasy', 'Drama', 'Comedy'])\n",
      "The most popular movies types in year (1994) is (['Thriller', 'Crime'])\n",
      "The most popular movies types in year (1995) is (['Crime', 'Mystery', 'Thriller'])\n",
      "The most popular movies types in year (1996) is (['Action', 'Adventure', 'Science Fiction'])\n",
      "The most popular movies types in year (1997) is (['Comedy'])\n",
      "The most popular movies types in year (1998) is (['Comedy', 'Drama'])\n",
      "The most popular movies types in year (1999) is (['Drama'])\n",
      "The most popular movies types in year (2000) is (['Action', 'Drama', 'Adventure'])\n",
      "The most popular movies types in year (2001) is (['Adventure', 'Fantasy', 'Action'])\n",
      "The most popular movies types in year (2002) is (['Adventure', 'Fantasy', 'Action'])\n",
      "The most popular movies types in year (2003) is (['Adventure', 'Fantasy', 'Action'])\n",
      "The most popular movies types in year (2004) is (['Adventure', 'Fantasy', 'Family'])\n",
      "The most popular movies types in year (2005) is (['Adventure', 'Fantasy', 'Family'])\n",
      "The most popular movies types in year (2006) is (['Fantasy', 'Action', 'Science Fiction', 'Thriller'])\n",
      "The most popular movies types in year (2007) is (['Adventure', 'Fantasy', 'Action'])\n",
      "The most popular movies types in year (2008) is (['Drama', 'Action', 'Crime', 'Thriller'])\n",
      "The most popular movies types in year (2009) is (['Action', 'Adventure', 'Fantasy', 'Science Fiction'])\n",
      "The most popular movies types in year (2010) is (['Action', 'Thriller', 'Science Fiction', 'Mystery', 'Adventure'])\n",
      "The most popular movies types in year (2011) is (['Action', 'Animation', 'Horror'])\n",
      "The most popular movies types in year (2012) is (['Science Fiction', 'Action', 'Adventure'])\n",
      "The most popular movies types in year (2013) is (['Animation', 'Adventure', 'Family'])\n",
      "The most popular movies types in year (2014) is (['Adventure', 'Drama', 'Science Fiction'])\n",
      "The most popular movies types in year (2015) is (['Action', 'Adventure', 'Science Fiction', 'Thriller'])\n"
     ]
    }
   ],
   "source": [
    "for b in years_lis:\n",
    "    df_yea=df_g[df_g['release_year']==b]\n",
    "    df_y=df_yea[df_yea['popularity']==df_yea['popularity'].max()].reset_index()\n",
    "    print('The most popular movies types in year ({}) is ({})'.format(b,df_y['genres'][0]))"
   ]
  },
  {
   "cell_type": "markdown",
   "metadata": {},
   "source": [
    "<a id='conclusions'></a>\n",
    "## Conclusions\n",
    "\n",
    "**star war** is the most profitable movie while **the warrior's way** is the least.\n",
    "\n",
    "most popular movie is : **Jurassic World** while **North and South, Book I** is the least.\n",
    "\n",
    "**Drama Movies** are the most frequent type while **western** are the least.\n",
    "\n",
    "**historical movies** are the longest while **animations** are the shortes.\n",
    "\n",
    "**Adventure movies** are the most profitable while **foreign** movies are the least.\n",
    "\n",
    "**adventure movies** are the most popular while **documentary** are the least.\n",
    "\n",
    "**documentary movies** have most vote average while **horror** have the least.\n",
    "\n",
    "At **2014** most no of movies released.\n",
    "\n",
    ">The most actor in (Action) movies is (Jean-Claude Van Damme)\n",
    "The most actor in (Adventure) movies is (Sean Connery)\n",
    "The most actor in (Science Fiction) movies is (Patrick Stewart)\n",
    "The most actor in (Thriller) movies is (Bruce Willis)\n",
    "The most actor in (Fantasy) movies is (Eddie Murphy)\n",
    "The most actor in (Crime) movies is (Samuel L. Jackson)\n",
    "The most actor in (Western) movies is (John Wayne)\n",
    "The most actor in (Drama) movies is (Robert De Niro)\n",
    "The most actor in (Family) movies is (Frank Welker)\n",
    "The most actor in (Animation) movies is (Frank Welker)\n",
    "The most actor in (Comedy) movies is (Eddie Murphy)\n",
    "The most actor in (Mystery) movies is (Morgan Freeman)\n",
    "The most actor in (Romance) movies is (Drew Barrymore)\n",
    "The most actor in (War) movies is (Brad Pitt)\n",
    "The most actor in (History) movies is (Anthony Hopkins)\n",
    "The most actor in (Music) movies is (Paul McCartney)\n",
    "The most actor in (Horror) movies is (Robert Englund)\n",
    "The most actor in (Documentary) movies is (George W. Bush)\n",
    "The most actor in (TV Movie) movies is (Anthony Quinn)\n",
    "The most actor in (Foreign) movies is (Akshay Kumar)\n",
    "\n",
    ">The most movies type in year (1960) is (Drama)\n",
    "The most movies type in year (1961) is (Drama)\n",
    "The most movies type in year (1962) is (Drama)\n",
    "The most movies type in year (1963) is (Comedy)\n",
    "The most movies type in year (1964) is (Drama)\n",
    "The most movies type in year (1965) is (Drama)\n",
    "The most movies type in year (1966) is (Comedy)\n",
    "The most movies type in year (1967) is (Comedy)\n",
    "The most movies type in year (1968) is (Drama)\n",
    "The most movies type in year (1969) is (Drama)\n",
    "The most movies type in year (1970) is (Drama)\n",
    "The most movies type in year (1971) is (Drama)\n",
    "The most movies type in year (1972) is (Drama)\n",
    "The most movies type in year (1973) is (Drama)\n",
    "The most movies type in year (1974) is (Drama)\n",
    "The most movies type in year (1975) is (Drama)\n",
    "The most movies type in year (1976) is (Drama)\n",
    "The most movies type in year (1977) is (Drama)\n",
    "The most movies type in year (1978) is (Drama)\n",
    "The most movies type in year (1979) is (Drama)\n",
    "The most movies type in year (1980) is (Drama)\n",
    "The most movies type in year (1981) is (Drama)\n",
    "The most movies type in year (1982) is (Drama)\n",
    "The most movies type in year (1983) is (Drama)\n",
    "The most movies type in year (1984) is (Drama)\n",
    "The most movies type in year (1985) is (Comedy)\n",
    "The most movies type in year (1986) is (Drama)\n",
    "The most movies type in year (1987) is (Comedy)\n",
    "The most movies type in year (1988) is (Comedy)\n",
    "The most movies type in year (1989) is (Comedy)\n",
    "The most movies type in year (1990) is (Drama)\n",
    "The most movies type in year (1991) is (Drama)\n",
    "The most movies type in year (1992) is (Drama)\n",
    "The most movies type in year (1993) is (Drama)\n",
    "The most movies type in year (1994) is (Comedy)\n",
    "The most movies type in year (1995) is (Drama)\n",
    "The most movies type in year (1996) is (Drama)\n",
    "The most movies type in year (1997) is (Drama)\n",
    "The most movies type in year (1998) is (Drama)\n",
    "The most movies type in year (1999) is (Drama)\n",
    "The most movies type in year (2000) is (Drama)\n",
    "The most movies type in year (2001) is (Comedy)\n",
    "The most movies type in year (2002) is (Drama)\n",
    "The most movies type in year (2003) is (Comedy)\n",
    "The most movies type in year (2004) is (Drama)\n",
    "The most movies type in year (2005) is (Drama)\n",
    "The most movies type in year (2006) is (Drama)\n",
    "The most movies type in year (2007) is (Drama)\n",
    "The most movies type in year (2008) is (Drama)\n",
    "The most movies type in year (2009) is (Drama)\n",
    "The most movies type in year (2010) is (Drama)\n",
    "The most movies type in year (2011) is (Drama)\n",
    "The most movies type in year (2012) is (Drama)\n",
    "The most movies type in year (2013) is (Drama)\n",
    "The most movies type in year (2014) is (Drama)\n",
    "The most movies type in year (2015) is (Drama)\n",
    "\n",
    ">it is very obvious that **drama movies** is the most type released almost every year\n",
    "\n",
    "**hoya productions** is the most production company that made gains while **universal pictures** has the most market share\n",
    "\n",
    ">The most popular movies types in year (1960) is (['Drama', 'Horror', 'Thriller'])\n",
    "The most popular movies types in year (1961) is (['Adventure', 'Animation', 'Comedy', 'Family'])\n",
    "The most popular movies types in year (1962) is (['Adventure', 'Action', 'Thriller'])\n",
    "The most popular movies types in year (1963) is (['Action', 'Thriller', 'Adventure'])\n",
    "The most popular movies types in year (1964) is (['Adventure', 'Action', 'Thriller'])\n",
    "The most popular movies types in year (1965) is (['Adventure', 'Action', 'Thriller'])\n",
    "The most popular movies types in year (1966) is (['Animation', 'Family', 'Comedy'])\n",
    "The most popular movies types in year (1967) is (['Family', 'Animation', 'Adventure'])\n",
    "The most popular movies types in year (1968) is (['Science Fiction', 'Mystery', 'Adventure'])\n",
    "The most popular movies types in year (1969) is (['Adventure', 'Action', 'Thriller'])\n",
    "The most popular movies types in year (1970) is (['Animation', 'Comedy', 'Family', 'Adventure'])\n",
    "The most popular movies types in year (1971) is (['Science Fiction', 'Drama'])\n",
    "The most popular movies types in year (1972) is (['Drama', 'Crime'])\n",
    "The most popular movies types in year (1973) is (['Animation', 'Family'])\n",
    "The most popular movies types in year (1974) is (['Drama', 'Crime'])\n",
    "The most popular movies types in year (1975) is (['Drama'])\n",
    "The most popular movies types in year (1976) is (['Crime', 'Drama'])\n",
    "The most popular movies types in year (1977) is (['Adventure', 'Action', 'Science Fiction'])\n",
    "The most popular movies types in year (1978) is (['Music'])\n",
    "The most popular movies types in year (1979) is (['Horror', 'Action', 'Thriller', 'Science Fiction'])\n",
    "The most popular movies types in year (1980) is (['Adventure', 'Action', 'Science Fiction'])\n",
    "The most popular movies types in year (1981) is (['Adventure', 'Action'])\n",
    "The most popular movies types in year (1982) is (['Science Fiction', 'Drama', 'Thriller'])\n",
    "The most popular movies types in year (1983) is (['Adventure', 'Action', 'Science Fiction'])\n",
    "The most popular movies types in year (1984) is (['Action', 'Thriller', 'Science Fiction'])\n",
    "The most popular movies types in year (1985) is (['Adventure', 'Comedy', 'Science Fiction', 'Family'])\n",
    "The most popular movies types in year (1986) is (['Horror', 'Action', 'Thriller', 'Science Fiction'])\n",
    "The most popular movies types in year (1987) is (['Science Fiction', 'Action', 'Adventure', 'Thriller'])\n",
    "The most popular movies types in year (1988) is (['Action', 'Thriller'])\n",
    "The most popular movies types in year (1989) is (['Animation', 'Family'])\n",
    "The most popular movies types in year (1990) is (['Action', 'Adventure', 'Science Fiction'])\n",
    "The most popular movies types in year (1991) is (['Romance', 'Family', 'Animation', 'Fantasy', 'Music'])\n",
    "The most popular movies types in year (1992) is (['Crime', 'Thriller'])\n",
    "The most popular movies types in year (1993) is (['Romance', 'Fantasy', 'Drama', 'Comedy'])\n",
    "The most popular movies types in year (1994) is (['Thriller', 'Crime'])\n",
    "The most popular movies types in year (1995) is (['Crime', 'Mystery', 'Thriller'])\n",
    "The most popular movies types in year (1996) is (['Action', 'Adventure', 'Science Fiction'])\n",
    "The most popular movies types in year (1997) is (['Comedy'])\n",
    "The most popular movies types in year (1998) is (['Comedy', 'Drama'])\n",
    "The most popular movies types in year (1999) is (['Drama'])\n",
    "The most popular movies types in year (2000) is (['Action', 'Drama', 'Adventure'])\n",
    "The most popular movies types in year (2001) is (['Adventure', 'Fantasy', 'Action'])\n",
    "The most popular movies types in year (2002) is (['Adventure', 'Fantasy', 'Action'])\n",
    "The most popular movies types in year (2003) is (['Adventure', 'Fantasy', 'Action'])\n",
    "The most popular movies types in year (2004) is (['Adventure', 'Fantasy', 'Family'])\n",
    "The most popular movies types in year (2005) is (['Adventure', 'Fantasy', 'Family'])\n",
    "The most popular movies types in year (2006) is (['Fantasy', 'Action', 'Science Fiction', 'Thriller'])\n",
    "The most popular movies types in year (2007) is (['Adventure', 'Fantasy', 'Action'])\n",
    "The most popular movies types in year (2008) is (['Drama', 'Action', 'Crime', 'Thriller'])\n",
    "The most popular movies types in year (2009) is (['Action', 'Adventure', 'Fantasy', 'Science Fiction'])\n",
    "The most popular movies types in year (2010) is (['Action', 'Thriller', 'Science Fiction', 'Mystery', 'Adventure'])\n",
    "The most popular movies types in year (2011) is (['Action', 'Animation', 'Horror'])\n",
    "The most popular movies types in year (2012) is (['Science Fiction', 'Action', 'Adventure'])\n",
    "The most popular movies types in year (2013) is (['Animation', 'Adventure', 'Family'])\n",
    "The most popular movies types in year (2014) is (['Adventure', 'Drama', 'Science Fiction'])\n",
    "The most popular movies types in year (2015) is (['Action', 'Adventure', 'Science Fiction', 'Thriller'])\n",
    "\n"
   ]
  },
  {
   "cell_type": "markdown",
   "metadata": {},
   "source": [
    "## Limitations :\n",
    "> in questions 9,10 and 13 it is a challenger for me to make analysis for columns that have only strings not numerical data that i can use the groupby function .\n",
    "\n",
    "> also most of the missing values was in columns that contain stings not numerical values so i can't fill them with mean for example.so i only can use dropna which reduce the no of samples"
   ]
  }
 ],
 "metadata": {
  "kernelspec": {
   "display_name": "Python 3",
   "language": "python",
   "name": "python3"
  },
  "language_info": {
   "codemirror_mode": {
    "name": "ipython",
    "version": 3
   },
   "file_extension": ".py",
   "mimetype": "text/x-python",
   "name": "python",
   "nbconvert_exporter": "python",
   "pygments_lexer": "ipython3",
   "version": "3.6.3"
  }
 },
 "nbformat": 4,
 "nbformat_minor": 2
}
